{
 "cells": [
  {
   "cell_type": "code",
   "execution_count": 18,
   "metadata": {},
   "outputs": [],
   "source": [
    "import requests\n",
    "import json\n",
    "import datetime"
   ]
  },
  {
   "cell_type": "code",
   "execution_count": 19,
   "metadata": {},
   "outputs": [],
   "source": [
    "def get_new_access_token(client_id, client_secret):\n",
    "    ## Define API endpoint and data\n",
    "    url = \"https://accounts.spotify.com/api/token\"\n",
    "\n",
    "    headers = {\n",
    "        \"Content-Type\": \"application/x-www-form-urlencoded\"\n",
    "    }\n",
    "    \n",
    "    data = {\n",
    "        \"grant_type\": \"client_credentials\",\n",
    "        \"client_id\": client_id,\n",
    "        \"client_secret\": client_secret\n",
    "    }\n",
    "\n",
    "    try:\n",
    "        ## Query API\n",
    "        response = requests.post(url, headers=headers, data=data)\n",
    "\n",
    "        if response.status_code == 200:\n",
    "            ## If request is successful, calc expire time and return response data\n",
    "            print('API request succeeded!')\n",
    "            res_data = response.json()\n",
    "\n",
    "            ## Calculate expire time from expires_in parameter (which is in seconds)\n",
    "            res_data['expire_date'] = datetime.datetime.now().timestamp() + response.json()['expires_in']\n",
    "\n",
    "            return res_data\n",
    "        else:\n",
    "            ## Otherwise, print error\n",
    "            print(f'Request failed. Expected 200, got {response.status_code}: {response.text}')\n",
    "            return None\n",
    "    except requests.exceptions.RequestException as e:\n",
    "        print(f'An error occurred during the request: {e}')\n",
    "        return None"
   ]
  },
  {
   "cell_type": "code",
   "execution_count": 22,
   "metadata": {},
   "outputs": [],
   "source": [
    "def get_access_token(client_id, client_secret):\n",
    "    token_file_path = 'access_token.json'\n",
    "    try:\n",
    "        with open(token_file_path) as token_file:\n",
    "            data = json.load(token_file)\n",
    "\n",
    "            ## If token expires in the next 2 minutes, get new token\n",
    "            if data['expire_date'] < datetime.datetime.now().timestamp() + 120:\n",
    "                ## Get new token and write to file\n",
    "                print('Token expired. Getting new token...')\n",
    "                response = get_new_access_token(client_id, client_secret)\n",
    "                json.dump(response, token_file)\n",
    "                return response['access_token']\n",
    "            else:\n",
    "                ## Otherwise, get existing token\n",
    "                print('Using existing token...')\n",
    "                return data['access_token']\n",
    "    except FileNotFoundError:\n",
    "        print(f'{token_file_path} not found.')"
   ]
  },
  {
   "cell_type": "code",
   "execution_count": 23,
   "metadata": {},
   "outputs": [
    {
     "name": "stdout",
     "output_type": "stream",
     "text": [
      "Using existing token...\n"
     ]
    },
    {
     "data": {
      "text/plain": [
       "'BQBymKWWpB9jLSoHw-IvtT__F78vPKOjV3PaE9j3OV9bSK0fehnvjULB1VmF_BA1rpYIXW76ikehScztZvxhrGC90ZqQb8xA263IJ3HbiKnSUoEMey0'"
      ]
     },
     "execution_count": 23,
     "metadata": {},
     "output_type": "execute_result"
    }
   ],
   "source": [
    "from credentials import CLIENT_ID, CLIENT_SECRET\n",
    "get_access_token(CLIENT_ID, CLIENT_SECRET)"
   ]
  }
 ],
 "metadata": {
  "kernelspec": {
   "display_name": "stat386",
   "language": "python",
   "name": "python3"
  },
  "language_info": {
   "codemirror_mode": {
    "name": "ipython",
    "version": 3
   },
   "file_extension": ".py",
   "mimetype": "text/x-python",
   "name": "python",
   "nbconvert_exporter": "python",
   "pygments_lexer": "ipython3",
   "version": "3.10.12"
  }
 },
 "nbformat": 4,
 "nbformat_minor": 2
}
