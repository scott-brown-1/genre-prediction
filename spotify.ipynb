{
 "cells": [
  {
   "cell_type": "code",
   "execution_count": null,
   "metadata": {},
   "outputs": [],
   "source": [
    "from dotenv import load_dotenv\n",
    "import os\n",
    "import requests"
   ]
  },
  {
   "cell_type": "code",
   "execution_count": null,
   "metadata": {},
   "outputs": [],
   "source": [
    "load_dotenv()\n",
    "\n",
    "CLIENT_ID = os.getenv('CLIENT_ID')\n",
    "CLIENT_SECRET = os.getenv('CLIENT_SECRET')"
   ]
  },
  {
   "cell_type": "code",
   "execution_count": 3,
   "metadata": {},
   "outputs": [],
   "source": [
    "## TEMPORARY WORKAROUND\n",
    "# Scott having issues with dotenv package\n",
    "# import os\n",
    "# import requests\n",
    "# from credentials import CLIENT_ID, CLIENT_SECRET"
   ]
  },
  {
   "cell_type": "code",
   "execution_count": 4,
   "metadata": {},
   "outputs": [],
   "source": [
    "url = \"https://accounts.spotify.com/api/token\"\n",
    "headers = {\n",
    "    \"Content-Type\": \"application/x-www-form-urlencoded\"\n",
    "}\n",
    "data = {\n",
    "    \"grant_type\": \"client_credentials\",\n",
    "    \"client_id\": CLIENT_ID,\n",
    "    \"client_secret\": CLIENT_SECRET\n",
    "}"
   ]
  },
  {
   "cell_type": "code",
   "execution_count": 5,
   "metadata": {},
   "outputs": [],
   "source": [
    "response = requests.post(url=url, headers=headers, data=data)"
   ]
  },
  {
   "cell_type": "code",
   "execution_count": 6,
   "metadata": {},
   "outputs": [
    {
     "data": {
      "text/plain": [
       "{'access_token': 'BQAC5TukY_MXzU1lLFcnWxzcsm8jbtajCaQyOsMMg17Wm9dZxX-ZJNwHEnJGJLGjZYVWLc2RzOttmphlWY7tC6EtBrv8j1GYuF5LLMYQZ4gna3EOEr4',\n",
       " 'token_type': 'Bearer',\n",
       " 'expires_in': 3600}"
      ]
     },
     "execution_count": 6,
     "metadata": {},
     "output_type": "execute_result"
    }
   ],
   "source": [
    "response.json()"
   ]
  },
  {
   "cell_type": "code",
   "execution_count": null,
   "metadata": {},
   "outputs": [],
   "source": [
    "def get_access_token(client_id = CLIENT_ID, client_secret = CLIENT_SECRET):\n",
    "    url = \"https://accounts.spotify.com/api/token\"\n",
    "\n",
    "    headers = {\n",
    "        \"Content-Type\": \"application/x-www-form-urlencoded\"\n",
    "    }\n",
    "    data = {\n",
    "        \"grant_type\": \"client_credentials\",\n",
    "        \"client_id\": client_id,\n",
    "        \"client_secret\": client_secret\n",
    "    }\n",
    "\n",
    "    response = requests.post(url=url, headers=headers, data=data)\n",
    "\n",
    "    return response.json()['access_token']"
   ]
  },
  {
   "cell_type": "code",
   "execution_count": 7,
   "metadata": {},
   "outputs": [],
   "source": [
    "access_token = response.json()[\"access_token\"]\n",
    "ARTISTS_ENDPOINT = 'https://api.spotify.com/v1/artists/'\n",
    "ARTIST_ID = '3WrFJ7ztbogyGnTHbHJFl2' # Beatles!"
   ]
  },
  {
   "cell_type": "code",
   "execution_count": null,
   "metadata": {},
   "outputs": [],
   "source": [
    "def query_spotify(endpoint, access_token=access_token):\n",
    "    headers = {\n",
    "        'Authorization': f'Bearer {access_token}'\n",
    "    }\n",
    "    \n",
    "    try:\n",
    "        response = requests.get(endpoint, headers=headers)\n",
    "    \n",
    "        if response.status_code == 200:\n",
    "            print('API request succeeded!')\n",
    "            response_data = response.json()\n",
    "            return response_data\n",
    "        else:\n",
    "            print(f'Request failed. Expected 200, got {response.status_code}: {response.text}')\n",
    "            return None\n",
    "    except requests.exceptions.RequestException as e:\n",
    "        print(f'An error occurred during the request: {e}')\n",
    "        return None\n"
   ]
  },
  {
   "cell_type": "code",
   "execution_count": null,
   "metadata": {},
   "outputs": [],
   "source": [
    "def get_artist_data(artist_id, access_token=access_token):\n",
    "   ## Define artist data endpoint\n",
    "   endpoint = ARTISTS_ENDPOINT + str(artist_id)\n",
    "   print('Getting artist data...')\n",
    "\n",
    "   artist_data = query_spotify(endpoint, access_token=access_token)    \n",
    "   return artist_data\n",
    "\n",
    "def get_album_data(artist_id, limit=10, access_token=access_token):\n",
    "   ## Define artist data endpoint\n",
    "   endpoint = f'{ARTISTS_ENDPOINT}{artist_id}/albums?limit={limit}'\n",
    "   print('Getting album data...')\n",
    "   \n",
    "   album_data = query_spotify(endpoint, access_token=access_token)\n",
    "   return album_data\n",
    "\n",
    "def get_track_data(artist_id, market='US', access_token=access_token):\n",
    "   ## Define artist data endpoint\n",
    "   endpoint = f'{ARTISTS_ENDPOINT}{artist_id}/top-tracks?market={market}'\n",
    "\n",
    "   print('Getting track data...')\n",
    "   \n",
    "   track_data = query_spotify(endpoint, access_token=access_token)\n",
    "   return track_data\n"
   ]
  },
  {
   "cell_type": "code",
   "execution_count": null,
   "metadata": {},
   "outputs": [],
   "source": [
    "#get_artist_data(artist_id = ARTIST_ID, access_token=access_token)\n",
    "#get_album_data(artist_id = ARTIST_ID, limit = 10, access_token=access_token)\n",
    "get_track_data(artist_id = ARTIST_ID, market = 'US', access_token=access_token)"
   ]
  }
 ],
 "metadata": {
  "kernelspec": {
   "display_name": "Python 3",
   "language": "python",
   "name": "python3"
  },
  "language_info": {
   "codemirror_mode": {
    "name": "ipython",
    "version": 3
   },
   "file_extension": ".py",
   "mimetype": "text/x-python",
   "name": "python",
   "nbconvert_exporter": "python",
   "pygments_lexer": "ipython3",
   "version": "3.10.12"
  }
 },
 "nbformat": 4,
 "nbformat_minor": 2
}
