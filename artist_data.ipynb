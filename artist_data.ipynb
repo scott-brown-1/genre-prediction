{
 "cells": [
  {
   "cell_type": "code",
   "execution_count": null,
   "metadata": {},
   "outputs": [],
   "source": [
    "import requests\n",
    "import pandas as pd\n",
    "import time\n",
    "from credentials import CLIENT_ID, CLIENT_SECRET # TEMPORARY WORKAROUND\n",
    "from constants import DATA_DIR\n",
    "\n",
    "from access_tokens import get_access_token\n",
    "from query_spotify import get_artists"
   ]
  },
  {
   "cell_type": "code",
   "execution_count": null,
   "metadata": {},
   "outputs": [],
   "source": [
    "artists = pd.read_csv(f'{DATA_DIR}/artists.csv')"
   ]
  },
  {
   "cell_type": "markdown",
   "metadata": {},
   "source": [
    "# Scrape Artist Data"
   ]
  },
  {
   "cell_type": "code",
   "execution_count": null,
   "metadata": {},
   "outputs": [],
   "source": [
    "QUERY_DELAY = 5 # seconds"
   ]
  },
  {
   "cell_type": "code",
   "execution_count": null,
   "metadata": {},
   "outputs": [],
   "source": [
    "def chunk_list(lst, n):\n",
    "    \"\"\"Yield successive n-sized chunks from lst.\"\"\"\n",
    "    for i in range(0, len(lst), n):\n",
    "        yield lst[i:i + n]"
   ]
  },
  {
   "cell_type": "code",
   "execution_count": null,
   "metadata": {},
   "outputs": [],
   "source": [
    "CHUNK_SIZE = 50\n",
    "artist_chunks = chunk_list(artists.artist_id.values, CHUNK_SIZE)\n",
    "\n",
    "for i,ids in enumerate(artist_chunks):\n",
    "    # TODO: wait for response from this line before proceeding?\n",
    "    token = get_access_token(CLIENT_ID, CLIENT_SECRET, timeout = 60, retries = 3)\n",
    "    \n",
    "    print('Getting artists')\n",
    "    artist_res = get_artists(ids, access_token = token)\n",
    "    \n",
    "    artist_res_clean = {\n",
    "        'artist_id': [artist['id'] for artist in artist_res['artists']],\n",
    "        'name': [artist['name'] for artist in artist_res['artists']],\n",
    "        'genres': [','.join(artist['genres']) for artist in artist_res['artists']],\n",
    "        'popularity': [artist['popularity'] for artist in artist_res['artists']],\n",
    "        'followers': [artist['followers']['total'] for artist in artist_res['artists']]\n",
    "    }\n",
    "\n",
    "    print('Writing data to CSV...')\n",
    "    artist_data = pd.DataFrame.from_dict(artist_res_clean)\n",
    "    artist_data.to_csv(f'{DATA_DIR}/artist_data.csv', mode='a', header=False, index=False)\n",
    "    artist_data.columns = artist_res_clean.keys()\n",
    "\n",
    "    print(f'Finished chunk {i} of {len(artists.artist_id.values) // CHUNK_SIZE + 1}')\n",
    "    time.sleep(QUERY_DELAY)"
   ]
  }
 ],
 "metadata": {
  "kernelspec": {
   "display_name": "stat386",
   "language": "python",
   "name": "python3"
  },
  "language_info": {
   "codemirror_mode": {
    "name": "ipython",
    "version": 3
   },
   "file_extension": ".py",
   "mimetype": "text/x-python",
   "name": "python",
   "nbconvert_exporter": "python",
   "pygments_lexer": "ipython3",
   "version": "3.10.12"
  }
 },
 "nbformat": 4,
 "nbformat_minor": 2
}
