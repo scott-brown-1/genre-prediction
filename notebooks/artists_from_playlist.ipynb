{
 "cells": [
  {
   "cell_type": "code",
   "execution_count": null,
   "metadata": {},
   "outputs": [],
   "source": [
    "from dotenv import load_dotenv\n",
    "import os\n",
    "import requests\n",
    "import pandas as pd\n",
    "import time\n",
    "\n",
    "from constants import DATA_DIR"
   ]
  },
  {
   "cell_type": "code",
   "execution_count": null,
   "metadata": {},
   "outputs": [],
   "source": [
    "load_dotenv()\n",
    "\n",
    "CLIENT_ID = os.getenv('CLIENT_ID')\n",
    "CLIENT_SECRET = os.getenv('CLIENT_SECRET')"
   ]
  },
  {
   "cell_type": "code",
   "execution_count": null,
   "metadata": {},
   "outputs": [],
   "source": [
    "url = \"https://accounts.spotify.com/api/token\"\n",
    "headers = {\n",
    "    \"Content-Type\": \"application/x-www-form-urlencoded\"\n",
    "}\n",
    "data = {\n",
    "    \"grant_type\": \"client_credentials\",\n",
    "    \"client_id\": CLIENT_ID,\n",
    "    \"client_secret\": CLIENT_SECRET\n",
    "}"
   ]
  },
  {
   "cell_type": "code",
   "execution_count": null,
   "metadata": {},
   "outputs": [],
   "source": [
    "response = requests.post(url=url, headers=headers, data=data)"
   ]
  },
  {
   "cell_type": "code",
   "execution_count": null,
   "metadata": {},
   "outputs": [],
   "source": [
    "response.json()"
   ]
  },
  {
   "cell_type": "code",
   "execution_count": null,
   "metadata": {},
   "outputs": [],
   "source": [
    "access_token = response.json()[\"access_token\"]"
   ]
  },
  {
   "cell_type": "code",
   "execution_count": null,
   "metadata": {},
   "outputs": [],
   "source": [
    "def playlist_query(playlist_id, access_token=access_token):\n",
    "    headers = {\n",
    "        'Authorization': f'Bearer {access_token}'\n",
    "    }\n",
    "    \n",
    "    try:\n",
    "        response = requests.get(f'https://api.spotify.com/v1/playlists/{playlist_id}', headers=headers)\n",
    "    \n",
    "        if response.status_code == 200:\n",
    "            print('API request succeeded!')\n",
    "            response_data = response.json()\n",
    "            return response_data\n",
    "        else:\n",
    "            print(f'Request failed. Expected 200, got {response.status_code}: {response.text}')\n",
    "            return None\n",
    "    except requests.exceptions.RequestException as e:\n",
    "        print(f'An error occurred during the request: {e}')\n",
    "        return None"
   ]
  },
  {
   "cell_type": "code",
   "execution_count": null,
   "metadata": {},
   "outputs": [],
   "source": [
    "#response['tracks']['items'][0]['track']['artists'][0]['name']\n",
    "#response['tracks']['items'][0]['track']['artists'][0]['id']\n",
    "\n"
   ]
  },
  {
   "cell_type": "code",
   "execution_count": null,
   "metadata": {},
   "outputs": [],
   "source": [
    "df = pd.read_csv(f'{DATA_DIR}/playlist.txt', header=None)\n",
    "playlist_list = df.values.tolist()[0]\n",
    "\n",
    "artist_df = pd.DataFrame(columns=['name','artist_id'])"
   ]
  },
  {
   "cell_type": "code",
   "execution_count": null,
   "metadata": {},
   "outputs": [],
   "source": [
    "type(artist_df)"
   ]
  },
  {
   "cell_type": "code",
   "execution_count": null,
   "metadata": {},
   "outputs": [],
   "source": [
    "for playlist in playlist_list:\n",
    "    time.sleep(10)\n",
    "    response = playlist_query(playlist)\n",
    "    for track in response['tracks']['items']:\n",
    "        name = track['track']['artists'][0]['name']\n",
    "        artist_id = track['track']['artists'][0]['id']\n",
    "\n",
    "        is_unique = artist_df.loc[(artist_df['name'] == name) & (artist_df['artist_id'] == artist_id)].empty\n",
    "\n",
    "        if is_unique:\n",
    "            new_row = pd.Series({'name': name, 'artist_id': artist_id})\n",
    "            artist_df = pd.concat([artist_df, pd.DataFrame([new_row])], ignore_index=True)\n",
    "        \n"
   ]
  },
  {
   "cell_type": "code",
   "execution_count": null,
   "metadata": {},
   "outputs": [],
   "source": [
    "artist_df.to_csv(f'{DATA_DIR}/artists.csv', index=False)"
   ]
  }
 ],
 "metadata": {
  "kernelspec": {
   "display_name": "Python 3",
   "language": "python",
   "name": "python3"
  },
  "language_info": {
   "codemirror_mode": {
    "name": "ipython",
    "version": 3
   },
   "file_extension": ".py",
   "mimetype": "text/x-python",
   "name": "python",
   "nbconvert_exporter": "python",
   "pygments_lexer": "ipython3",
   "version": "3.10.12"
  }
 },
 "nbformat": 4,
 "nbformat_minor": 2
}
