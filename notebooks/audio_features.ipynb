{
 "cells": [
  {
   "cell_type": "code",
   "execution_count": null,
   "metadata": {},
   "outputs": [],
   "source": [
    "# import os\n",
    "# os.chdir('..')"
   ]
  },
  {
   "cell_type": "code",
   "execution_count": null,
   "metadata": {},
   "outputs": [],
   "source": [
    "import requests\n",
    "import pandas as pd\n",
    "import time\n",
    "from credentials import CLIENT_ID, CLIENT_SECRET # TEMPORARY WORKAROUND\n",
    "from constants import DATA_DIR\n",
    "\n",
    "from access_tokens import get_access_token\n",
    "from query_spotify import get_tracks_audio_features\n",
    "from utils import chunk_list"
   ]
  },
  {
   "cell_type": "code",
   "execution_count": null,
   "metadata": {},
   "outputs": [],
   "source": [
    "CHUNK_SIZE = 50 # tracks per query\n",
    "QUERY_DELAY = 5#60*3 # 3 mins in seconds"
   ]
  },
  {
   "cell_type": "code",
   "execution_count": null,
   "metadata": {},
   "outputs": [],
   "source": [
    "## Get track ids\n",
    "tracks = pd.read_csv(f'{DATA_DIR}/track_data.csv')\n",
    "track_chunks = chunk_list(tracks.track_id.values, CHUNK_SIZE)\n",
    "n_chunks = len(tracks.track_id.values) // CHUNK_SIZE\n",
    "tracks.head(2)"
   ]
  },
  {
   "cell_type": "code",
   "execution_count": null,
   "metadata": {},
   "outputs": [],
   "source": [
    "## Loop through each chunk of tracks\n",
    "for i,ids in enumerate(track_chunks):\n",
    "    ## Make sure access token is fresh\n",
    "    token = get_access_token(CLIENT_ID, CLIENT_SECRET, timeout = 60, retries = 3)\n",
    "    \n",
    "    ## Get artist data from ids\n",
    "    print('Getting tracks')\n",
    "    audio_res = get_tracks_audio_features(ids, access_token = token)\n",
    "    if(audio_res is None):\n",
    "        print('Error getting batch')\n",
    "        continue\n",
    "    \n",
    "    ## Clean response into dictionary\n",
    "    audio_res_clean = {\n",
    "        'track_id': [audio['id'] for audio in audio_res['audio_features']],\n",
    "        'danceability': [audio['danceability'] for audio in audio_res['audio_features']],\n",
    "        'energy': [audio['energy'] for audio in audio_res['audio_features']],\n",
    "        'key': [audio['key'] for audio in audio_res['audio_features']],\n",
    "        'loudness': [audio['loudness'] for audio in audio_res['audio_features']],\n",
    "        'mode': [audio['mode'] for audio in audio_res['audio_features']],\n",
    "        'speechiness': [audio['speechiness'] for audio in audio_res['audio_features']],\n",
    "        'acousticness': [audio['acousticness'] for audio in audio_res['audio_features']],\n",
    "        'instrumentalness': [audio['instrumentalness'] for audio in audio_res['audio_features']],\n",
    "        'liveness': [audio['liveness'] for audio in audio_res['audio_features']],\n",
    "        'valence': [audio['valence'] for audio in audio_res['audio_features']],\n",
    "        'tempo': [audio['tempo'] for audio in audio_res['audio_features']],\n",
    "        'time_signature': [audio['time_signature'] for audio in audio_res['audio_features']],\n",
    "    }\n",
    "\n",
    "    ## Convert to dataframe and write to CSV\n",
    "    print('Writing data to CSV...')\n",
    "    audio_data = pd.DataFrame.from_dict(audio_res_clean)\n",
    "    audio_data.columns = audio_res_clean.keys()\n",
    "\n",
    "    keep_header = True if i == 0 else False\n",
    "    audio_data.to_csv(f'{DATA_DIR}/audio_feature_data.csv', mode='a', header=keep_header, index=False)\n",
    "\n",
    "    print(f'Finished chunk {i+1} of {n_chunks+1}')\n",
    "    time.sleep(QUERY_DELAY)\n",
    "\n",
    "print('Script complete')"
   ]
  }
 ],
 "metadata": {
  "kernelspec": {
   "display_name": "stat386",
   "language": "python",
   "name": "python3"
  },
  "language_info": {
   "codemirror_mode": {
    "name": "ipython",
    "version": 3
   },
   "file_extension": ".py",
   "mimetype": "text/x-python",
   "name": "python",
   "nbconvert_exporter": "python",
   "pygments_lexer": "ipython3",
   "version": "3.10.12"
  }
 },
 "nbformat": 4,
 "nbformat_minor": 2
}
