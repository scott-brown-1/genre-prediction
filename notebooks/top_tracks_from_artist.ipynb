{
 "cells": [
  {
   "cell_type": "code",
   "execution_count": 1,
   "metadata": {},
   "outputs": [],
   "source": [
    "import os\n",
    "os.chdir('..')"
   ]
  },
  {
   "cell_type": "code",
   "execution_count": 2,
   "metadata": {},
   "outputs": [],
   "source": [
    "import requests\n",
    "import pandas as pd\n",
    "import time\n",
    "from credentials import CLIENT_ID, CLIENT_SECRET\n",
    "from constants import DATA_DIR\n",
    "\n",
    "from access_tokens import get_access_token\n",
    "from query_spotify import get_artist_top_tracks"
   ]
  },
  {
   "cell_type": "markdown",
   "metadata": {},
   "source": [
    "# Scrape Track Data"
   ]
  },
  {
   "cell_type": "code",
   "execution_count": null,
   "metadata": {},
   "outputs": [],
   "source": [
    "QUERY_DELAY = 4 * 60 # minutes * seconds\n",
    "MARKET = 'US'"
   ]
  },
  {
   "cell_type": "code",
   "execution_count": null,
   "metadata": {},
   "outputs": [],
   "source": [
    "## Get artist ids\n",
    "artists = pd.read_csv(f'{DATA_DIR}/artists.csv')\n",
    "artist_ids = artists.artist_id.values"
   ]
  },
  {
   "cell_type": "code",
   "execution_count": null,
   "metadata": {},
   "outputs": [],
   "source": [
    "## Loop through each artist\n",
    "for i,artist_id in enumerate(artist_ids):\n",
    "    ## Make sure access token is fresh \n",
    "    token = get_access_token(CLIENT_ID, CLIENT_SECRET, timeout = 60, retries = 3)\n",
    "    \n",
    "    ## Get artist top tracks from artist ids\n",
    "    print('Getting tracks')\n",
    "\n",
    "    track_res = get_artist_top_tracks(artist_id=artist_id, access_token=token, market=MARKET)\n",
    "    if(track_res is None):\n",
    "        print(f'Error getting artist {artist_id}')\n",
    "        continue\n",
    "\n",
    "    print(track_res)\n",
    "\n",
    "    ## Clean response into dictionary\n",
    "    # song_id, name, artist_id, n_album_songs, duration_ms, explicit, track_popularity\n",
    "    track_res_clean = {\n",
    "        'track_id': [track['id'] for track in track_res['tracks']],\n",
    "        'track_name': [track['name'] for track in track_res['tracks']],\n",
    "        'artist_id': [track['artists'][0]['id'] for track in track_res['tracks']],\n",
    "        'artist_name': [track['artists'][0]['name'] for track in track_res['tracks']],\n",
    "        'release_date': [track['album']['release_date'] for track in track_res['tracks']],\n",
    "        'release_date_precision': [track['album']['release_date_precision'] for track in track_res['tracks']],\n",
    "        'album_len': [track['album']['total_tracks'] for track in track_res['tracks']],\n",
    "        'duration_ms': [track['duration_ms'] for track in track_res['tracks']],\n",
    "        'explicit': [track['explicit'] for track in track_res['tracks']],\n",
    "        'track_popularity': [track['popularity'] for track in track_res['tracks']]\n",
    "    }\n",
    "    \n",
    "    ## Convert to dataframe and write to CSV\n",
    "    print('Writing data to CSV...')\n",
    "    track_data = pd.DataFrame.from_dict(track_res_clean)\n",
    "    track_data.columns = track_res_clean.keys()\n",
    "    display(track_data)\n",
    "    break\n",
    "    track_data.to_csv(f'{DATA_DIR}/track_data.csv', mode='a', header=False, index=False)\n",
    "\n",
    "    print(f'Finished chunk {i+1} of {len(artist_ids)}')\n",
    "    time.sleep(QUERY_DELAY)"
   ]
  }
 ],
 "metadata": {
  "kernelspec": {
   "display_name": "stat386",
   "language": "python",
   "name": "python3"
  },
  "language_info": {
   "codemirror_mode": {
    "name": "ipython",
    "version": 3
   },
   "file_extension": ".py",
   "mimetype": "text/x-python",
   "name": "python",
   "nbconvert_exporter": "python",
   "pygments_lexer": "ipython3",
   "version": "3.10.12"
  }
 },
 "nbformat": 4,
 "nbformat_minor": 2
}
