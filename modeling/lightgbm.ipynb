{
 "cells": [
  {
   "cell_type": "markdown",
   "metadata": {},
   "source": [
    "# Imports and Setup"
   ]
  },
  {
   "cell_type": "code",
   "execution_count": null,
   "metadata": {},
   "outputs": [],
   "source": [
    "import os\n",
    "os.chdir('..')"
   ]
  },
  {
   "cell_type": "code",
   "execution_count": null,
   "metadata": {},
   "outputs": [],
   "source": [
    "import pandas as pd\n",
    "import numpy as np\n",
    "\n",
    "from lightgbm import LGBMClassifier\n",
    "import shap\n",
    "\n",
    "from constants import DATA_DIR, DROP_COLS\n",
    "from modeling.load_train_test import load_train_test\n",
    "from modeling.predict_and_evaluate import predict_and_evaluate\n",
    "\n",
    "np.random.seed(42)\n",
    "shap.initjs()"
   ]
  },
  {
   "cell_type": "markdown",
   "metadata": {},
   "source": [
    "# Create and train model\n",
    "##### Note: To change models, only this cell needs to be updated"
   ]
  },
  {
   "cell_type": "code",
   "execution_count": null,
   "metadata": {},
   "outputs": [],
   "source": [
    "X_train, X_test, y_train, y_test = load_train_test(scale=False)\n",
    "\n",
    "HYPERPARAMS = {\n",
    "    'learning_rate': 0.1, \n",
    "    'n_estimators': 25,\n",
    "    'num_leaves': 40\n",
    "}\n",
    "\n",
    "model = LGBMClassifier(\n",
    "    learning_rate=HYPERPARAMS['learning_rate'], \n",
    "    n_estimators=HYPERPARAMS['n_estimators'], \n",
    "    num_leaves=HYPERPARAMS['num_leaves'], \n",
    "    is_unbalance=True) # TODO: SMOTE\n",
    "\n",
    "model.fit(X_train, y_train)"
   ]
  },
  {
   "cell_type": "markdown",
   "metadata": {},
   "source": [
    "# Predict out-of-sample genres and evaluate accuracy"
   ]
  },
  {
   "cell_type": "code",
   "execution_count": null,
   "metadata": {},
   "outputs": [],
   "source": [
    "y_pred, y_prob = predict_and_evaluate(model, new_data=X_test, truth_data=y_test)"
   ]
  },
  {
   "cell_type": "markdown",
   "metadata": {},
   "source": [
    "# Explore preds with SHAP"
   ]
  },
  {
   "cell_type": "code",
   "execution_count": null,
   "metadata": {},
   "outputs": [],
   "source": [
    "explainer = shap.TreeExplainer(model)\n",
    "shap_values = explainer.shap_values(X_train)"
   ]
  },
  {
   "cell_type": "code",
   "execution_count": 30,
   "metadata": {},
   "outputs": [
    {
     "data": {
      "text/html": [
       "\n",
       "<div id='iMMSDNWY8F5UNJIPAZYZV'>\n",
       "<div style='color: #900; text-align: center;'>\n",
       "  <b>Visualization omitted, Javascript library not loaded!</b><br>\n",
       "  Have you run `initjs()` in this notebook? If this notebook was from another\n",
       "  user you must also trust this notebook (File -> Trust notebook). If you are viewing\n",
       "  this notebook on github the Javascript has been stripped for security. If you are using\n",
       "  JupyterLab this error is because a JupyterLab extension has not yet been written.\n",
       "</div></div>\n",
       " <script>\n",
       "   if (window.SHAP) SHAP.ReactDom.render(\n",
       "    SHAP.React.createElement(SHAP.AdditiveForceVisualizer, {\"outNames\": [\"f(x)\"], \"baseValue\": -5.451524533064918, \"outValue\": -6.093845330400596, \"link\": \"identity\", \"featureNames\": [\"popularity\", \"followers\", \"album_len\", \"duration_ms\", \"explicit\", \"track_popularity\", \"danceability\", \"energy\", \"key\", \"loudness\", \"mode\", \"speechiness\", \"acousticness\", \"instrumentalness\", \"liveness\", \"valence\", \"tempo\", \"time_signature\"], \"features\": {\"0\": {\"effect\": -0.11283716682783637, \"value\": 62.0}, \"1\": {\"effect\": 0.033373582856419344, \"value\": 2432189.0}, \"2\": {\"effect\": -0.025276533804771326, \"value\": 10.0}, \"3\": {\"effect\": 0.00701872063663462, \"value\": 252266.0}, \"4\": {\"effect\": -0.11682119790210231, \"value\": 0.0}, \"5\": {\"effect\": -0.005515597148165176, \"value\": 50.0}, \"6\": {\"effect\": -0.14120699339926518, \"value\": 0.557}, \"7\": {\"effect\": -0.06323459910058148, \"value\": 0.798}, \"8\": {\"effect\": -0.006350149939389693, \"value\": 9.0}, \"9\": {\"effect\": 0.00857410732949947, \"value\": -5.843}, \"10\": {\"effect\": 0.006129511182459014, \"value\": 0.0}, \"11\": {\"effect\": -0.08700172702262693, \"value\": 0.0277}, \"12\": {\"effect\": -0.004866725455761823, \"value\": 0.0158}, \"13\": {\"effect\": -0.039349487675297445, \"value\": 2.47e-05}, \"14\": {\"effect\": -0.02012872396062752, \"value\": 0.547}, \"15\": {\"effect\": -0.0011961248511463862, \"value\": 0.612}, \"16\": {\"effect\": -0.0736316922531192, \"value\": 134.805}}, \"plot_cmap\": \"RdBu\", \"labelMargin\": 20}),\n",
       "    document.getElementById('iMMSDNWY8F5UNJIPAZYZV')\n",
       "  );\n",
       "</script>"
      ],
      "text/plain": [
       "<shap.plots._force.AdditiveForceVisualizer at 0x7fed19177550>"
      ]
     },
     "execution_count": 30,
     "metadata": {},
     "output_type": "execute_result"
    }
   ],
   "source": [
    "OBS = 4\n",
    "shap.force_plot(explainer.expected_value[OBS], shap_values[OBS][0, :], X_train.iloc[0, :])"
   ]
  },
  {
   "cell_type": "code",
   "execution_count": null,
   "metadata": {},
   "outputs": [],
   "source": [
    "#shap_obj = explainer(X_train)\n",
    "#shap.plots.beeswarm(shap_obj)"
   ]
  },
  {
   "cell_type": "markdown",
   "metadata": {},
   "source": [
    "## Notes:\n",
    "* Balance classes\n",
    "* Tune models\n",
    "* Compare errors of different classes\n",
    "* Is one class confused for another most often, i.e. country confused for rock?'"
   ]
  }
 ],
 "metadata": {
  "kernelspec": {
   "display_name": "stat386",
   "language": "python",
   "name": "python3"
  },
  "language_info": {
   "codemirror_mode": {
    "name": "ipython",
    "version": 3
   },
   "file_extension": ".py",
   "mimetype": "text/x-python",
   "name": "python",
   "nbconvert_exporter": "python",
   "pygments_lexer": "ipython3",
   "version": "3.10.12"
  }
 },
 "nbformat": 4,
 "nbformat_minor": 2
}
