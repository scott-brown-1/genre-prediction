{
 "cells": [
  {
   "cell_type": "code",
   "execution_count": 3,
   "metadata": {},
   "outputs": [],
   "source": [
    "# import os\n",
    "# os.chdir('..')"
   ]
  },
  {
   "cell_type": "code",
   "execution_count": 32,
   "metadata": {},
   "outputs": [],
   "source": [
    "import pandas as pd\n",
    "import numpy as np\n",
    "\n",
    "import copy\n",
    "\n",
    "import category_encoders as ce\n",
    "\n",
    "from constants import DATA_DIR"
   ]
  },
  {
   "cell_type": "code",
   "execution_count": 5,
   "metadata": {},
   "outputs": [],
   "source": [
    "data = pd.read_csv(f'{DATA_DIR}/Final_Data_For_Real.csv')"
   ]
  },
  {
   "cell_type": "code",
   "execution_count": 34,
   "metadata": {},
   "outputs": [],
   "source": [
    "def target_encode_multiclass(X,y): #X,y are pandas df and series\n",
    "    y = y.astype(str)   #convert to string to onehot encode\n",
    "    enc = ce.OneHotEncoder().fit(y)\n",
    "    y_onehot=enc.transform(y)\n",
    "    class_names = y_onehot.columns  # names of onehot encoded columns\n",
    "    X_obj=X.select_dtypes('object') #separate categorical columns\n",
    "    X=X.select_dtypes(exclude='object') \n",
    "    for class_ in class_names:\n",
    "        enc=ce.TargetEncoder()\n",
    "        enc.fit(X_obj,y_onehot[class_]) #convert all categorical \n",
    "        temp=enc.transform(X_obj)       #columns for class_\n",
    "        temp.columns=[str(x)+'_'+str(class_) for x in temp.columns]\n",
    "        X=pd.concat([X,temp],axis=1)    #add to original dataset\n",
    "      \n",
    "    return X"
   ]
  },
  {
   "cell_type": "code",
   "execution_count": 35,
   "metadata": {},
   "outputs": [],
   "source": [
    "def process_data(X, y, encode=True, hyperparams=None):\n",
    "    ## Target encode categorical variables\n",
    "    X = target_encode_multiclass(X, y)"
   ]
  },
  {
   "cell_type": "code",
   "execution_count": 41,
   "metadata": {},
   "outputs": [],
   "source": [
    "TARGET = 'Genre'\n",
    "data = pd.read_csv(f'{DATA_DIR}/Final_Data_For_Real.csv')\n",
    "X = data.drop(TARGET,inplace=False,axis=1)\n",
    "y = data[TARGET]"
   ]
  },
  {
   "cell_type": "code",
   "execution_count": 43,
   "metadata": {},
   "outputs": [
    {
     "data": {
      "text/plain": [
       "0                   ['Pop']\n",
       "1                   ['Pop']\n",
       "2                   ['Pop']\n",
       "3                   ['Pop']\n",
       "4                   ['Pop']\n",
       "               ...         \n",
       "7983    ['Rock', 'Country']\n",
       "7984    ['Rock', 'Country']\n",
       "7985    ['Rock', 'Country']\n",
       "7986    ['Rock', 'Country']\n",
       "7987    ['Rock', 'Country']\n",
       "Name: Genre, Length: 7988, dtype: object"
      ]
     },
     "execution_count": 43,
     "metadata": {},
     "output_type": "execute_result"
    }
   ],
   "source": [
    "X.Genre"
   ]
  },
  {
   "cell_type": "code",
   "execution_count": 38,
   "metadata": {},
   "outputs": [],
   "source": [
    "X2 = process_data(X,y)"
   ]
  },
  {
   "cell_type": "code",
   "execution_count": 40,
   "metadata": {},
   "outputs": [],
   "source": [
    "X2"
   ]
  }
 ],
 "metadata": {
  "kernelspec": {
   "display_name": "stat386",
   "language": "python",
   "name": "python3"
  },
  "language_info": {
   "codemirror_mode": {
    "name": "ipython",
    "version": 3
   },
   "file_extension": ".py",
   "mimetype": "text/x-python",
   "name": "python",
   "nbconvert_exporter": "python",
   "pygments_lexer": "ipython3",
   "version": "3.10.12"
  }
 },
 "nbformat": 4,
 "nbformat_minor": 2
}
