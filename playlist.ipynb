{
 "cells": [
  {
   "cell_type": "code",
   "execution_count": 1,
   "metadata": {},
   "outputs": [],
   "source": [
    "from dotenv import load_dotenv\n",
    "import os\n",
    "import requests\n",
    "import pandas as pd\n",
    "import time"
   ]
  },
  {
   "cell_type": "code",
   "execution_count": 2,
   "metadata": {},
   "outputs": [],
   "source": [
    "load_dotenv()\n",
    "\n",
    "CLIENT_ID = os.getenv('CLIENT_ID')\n",
    "CLIENT_SECRET = os.getenv('CLIENT_SECRET')"
   ]
  },
  {
   "cell_type": "code",
   "execution_count": 3,
   "metadata": {},
   "outputs": [],
   "source": [
    "url = \"https://accounts.spotify.com/api/token\"\n",
    "headers = {\n",
    "    \"Content-Type\": \"application/x-www-form-urlencoded\"\n",
    "}\n",
    "data = {\n",
    "    \"grant_type\": \"client_credentials\",\n",
    "    \"client_id\": CLIENT_ID,\n",
    "    \"client_secret\": CLIENT_SECRET\n",
    "}"
   ]
  },
  {
   "cell_type": "code",
   "execution_count": 4,
   "metadata": {},
   "outputs": [],
   "source": [
    "response = requests.post(url=url, headers=headers, data=data)"
   ]
  },
  {
   "cell_type": "code",
   "execution_count": 5,
   "metadata": {},
   "outputs": [
    {
     "data": {
      "text/plain": [
       "{'access_token': 'BQD3AYYMoBAkQiJt2pXrA9mnY2ca8_p6sJWZj74UvpB85bzVqWYPTY0PI-T8D9Bq9CofhkdixcAxhlyo64fvO2081EBOL0gfJXst7pF9mYoBaRQkffE',\n",
       " 'token_type': 'Bearer',\n",
       " 'expires_in': 3600}"
      ]
     },
     "execution_count": 5,
     "metadata": {},
     "output_type": "execute_result"
    }
   ],
   "source": [
    "response.json()"
   ]
  },
  {
   "cell_type": "code",
   "execution_count": 6,
   "metadata": {},
   "outputs": [],
   "source": [
    "access_token = response.json()[\"access_token\"]"
   ]
  },
  {
   "cell_type": "code",
   "execution_count": 7,
   "metadata": {},
   "outputs": [],
   "source": [
    "def playlist_query(playlist_id, access_token=access_token):\n",
    "    headers = {\n",
    "        'Authorization': f'Bearer {access_token}'\n",
    "    }\n",
    "    \n",
    "    try:\n",
    "        response = requests.get(f'https://api.spotify.com/v1/playlists/{playlist_id}', headers=headers)\n",
    "    \n",
    "        if response.status_code == 200:\n",
    "            print('API request succeeded!')\n",
    "            response_data = response.json()\n",
    "            return response_data\n",
    "        else:\n",
    "            print(f'Request failed. Expected 200, got {response.status_code}: {response.text}')\n",
    "            return None\n",
    "    except requests.exceptions.RequestException as e:\n",
    "        print(f'An error occurred during the request: {e}')\n",
    "        return None"
   ]
  },
  {
   "cell_type": "code",
   "execution_count": 8,
   "metadata": {},
   "outputs": [
    {
     "ename": "TypeError",
     "evalue": "'Response' object is not subscriptable",
     "output_type": "error",
     "traceback": [
      "\u001b[0;31m---------------------------------------------------------------------------\u001b[0m",
      "\u001b[0;31mTypeError\u001b[0m                                 Traceback (most recent call last)",
      "\u001b[1;32m/home/jake/stat386/Final_Project/genre-prediction/playlist.ipynb Cell 8\u001b[0m line \u001b[0;36m1\n\u001b[0;32m----> <a href='vscode-notebook-cell:/home/jake/stat386/Final_Project/genre-prediction/playlist.ipynb#X16sZmlsZQ%3D%3D?line=0'>1</a>\u001b[0m response[\u001b[39m'\u001b[39;49m\u001b[39mtracks\u001b[39;49m\u001b[39m'\u001b[39;49m][\u001b[39m'\u001b[39m\u001b[39mitems\u001b[39m\u001b[39m'\u001b[39m][\u001b[39m0\u001b[39m][\u001b[39m'\u001b[39m\u001b[39mtrack\u001b[39m\u001b[39m'\u001b[39m][\u001b[39m'\u001b[39m\u001b[39martists\u001b[39m\u001b[39m'\u001b[39m][\u001b[39m0\u001b[39m][\u001b[39m'\u001b[39m\u001b[39mname\u001b[39m\u001b[39m'\u001b[39m]\n\u001b[1;32m      <a href='vscode-notebook-cell:/home/jake/stat386/Final_Project/genre-prediction/playlist.ipynb#X16sZmlsZQ%3D%3D?line=1'>2</a>\u001b[0m response[\u001b[39m'\u001b[39m\u001b[39mtracks\u001b[39m\u001b[39m'\u001b[39m][\u001b[39m'\u001b[39m\u001b[39mitems\u001b[39m\u001b[39m'\u001b[39m][\u001b[39m0\u001b[39m][\u001b[39m'\u001b[39m\u001b[39mtrack\u001b[39m\u001b[39m'\u001b[39m][\u001b[39m'\u001b[39m\u001b[39martists\u001b[39m\u001b[39m'\u001b[39m][\u001b[39m0\u001b[39m][\u001b[39m'\u001b[39m\u001b[39mid\u001b[39m\u001b[39m'\u001b[39m]\n",
      "\u001b[0;31mTypeError\u001b[0m: 'Response' object is not subscriptable"
     ]
    }
   ],
   "source": [
    "#response['tracks']['items'][0]['track']['artists'][0]['name']\n",
    "#response['tracks']['items'][0]['track']['artists'][0]['id']\n",
    "\n"
   ]
  },
  {
   "cell_type": "code",
   "execution_count": 9,
   "metadata": {},
   "outputs": [],
   "source": [
    "df = pd.read_csv('playlist.txt', header=None)\n",
    "playlist_list = df.values.tolist()[0]\n",
    "\n",
    "artist_df = pd.DataFrame(columns=['name','artist_id'])"
   ]
  },
  {
   "cell_type": "code",
   "execution_count": 12,
   "metadata": {},
   "outputs": [
    {
     "data": {
      "text/plain": [
       "pandas.core.frame.DataFrame"
      ]
     },
     "execution_count": 12,
     "metadata": {},
     "output_type": "execute_result"
    }
   ],
   "source": [
    "type(artist_df)"
   ]
  },
  {
   "cell_type": "code",
   "execution_count": 15,
   "metadata": {},
   "outputs": [
    {
     "name": "stdout",
     "output_type": "stream",
     "text": [
      "API request succeeded!\n",
      "API request succeeded!\n",
      "API request succeeded!\n",
      "API request succeeded!\n",
      "API request succeeded!\n",
      "API request succeeded!\n",
      "API request succeeded!\n",
      "API request succeeded!\n",
      "API request succeeded!\n",
      "API request succeeded!\n",
      "API request succeeded!\n",
      "API request succeeded!\n",
      "API request succeeded!\n",
      "API request succeeded!\n",
      "API request succeeded!\n",
      "API request succeeded!\n",
      "API request succeeded!\n",
      "API request succeeded!\n",
      "API request succeeded!\n",
      "API request succeeded!\n",
      "API request succeeded!\n",
      "API request succeeded!\n",
      "API request succeeded!\n",
      "API request succeeded!\n",
      "API request succeeded!\n",
      "API request succeeded!\n",
      "API request succeeded!\n"
     ]
    }
   ],
   "source": [
    "for playlist in playlist_list:\n",
    "    time.sleep(10)\n",
    "    response = playlist_query(playlist)\n",
    "    for track in response['tracks']['items']:\n",
    "        name = track['track']['artists'][0]['name']\n",
    "        artist_id = track['track']['artists'][0]['id']\n",
    "\n",
    "        is_unique = artist_df.loc[(artist_df['name'] == name) & (artist_df['artist_id'] == artist_id)].empty\n",
    "\n",
    "        if is_unique:\n",
    "            new_row = pd.Series({'name': name, 'artist_id': artist_id})\n",
    "            artist_df = pd.concat([artist_df, pd.DataFrame([new_row])], ignore_index=True)\n",
    "        \n"
   ]
  },
  {
   "cell_type": "code",
   "execution_count": 17,
   "metadata": {},
   "outputs": [],
   "source": [
    "artist_df.to_csv(\"artists.csv\", index=False)"
   ]
  }
 ],
 "metadata": {
  "kernelspec": {
   "display_name": "Python 3",
   "language": "python",
   "name": "python3"
  },
  "language_info": {
   "codemirror_mode": {
    "name": "ipython",
    "version": 3
   },
   "file_extension": ".py",
   "mimetype": "text/x-python",
   "name": "python",
   "nbconvert_exporter": "python",
   "pygments_lexer": "ipython3",
   "version": "3.10.12"
  }
 },
 "nbformat": 4,
 "nbformat_minor": 2
}
